{
  "nbformat": 4,
  "nbformat_minor": 0,
  "metadata": {
    "colab": {
      "provenance": []
    },
    "kernelspec": {
      "name": "python3",
      "display_name": "Python 3"
    },
    "language_info": {
      "name": "python"
    }
  },
  "cells": [
    {
      "cell_type": "code",
      "execution_count": null,
      "metadata": {
        "colab": {
          "base_uri": "https://localhost:8080/"
        },
        "id": "Xs18oN-EmEl-",
        "outputId": "5328a20e-1672-4b0b-93d1-0c369d31adee"
      },
      "outputs": [
        {
          "output_type": "stream",
          "name": "stdout",
          "text": [
            "     PassengerId  Survived  Pclass                                      Name  \\\n",
            "0            493         0       1                Molson, Mr. Harry Markland   \n",
            "1             53         1       1  Harper, Mrs. Henry Sleeper (Myna Haxtun)   \n",
            "2            388         1       2                          Buss, Miss. Kate   \n",
            "3            192         0       2                     Carbines, Mr. William   \n",
            "4            687         0       3                  Panula, Mr. Jaako Arnold   \n",
            "..           ...       ...     ...                                       ...   \n",
            "707          859         1       3     Baclini, Mrs. Solomon (Latifa Qurban)   \n",
            "708           65         0       1                     Stewart, Mr. Albert A   \n",
            "709          130         0       3                        Ekstrom, Mr. Johan   \n",
            "710           21         0       2                      Fynney, Mr. Joseph J   \n",
            "711          476         0       1               Clifford, Mr. George Quincy   \n",
            "\n",
            "        Sex   Age  SibSp  Parch    Ticket     Fare Cabin Embarked  \n",
            "0      male  55.0      0      0    113787  30.5000   C30        S  \n",
            "1    female  49.0      1      0  PC 17572  76.7292   D33        C  \n",
            "2    female  36.0      0      0     27849  13.0000   NaN        S  \n",
            "3      male  19.0      0      0     28424  13.0000   NaN        S  \n",
            "4      male  14.0      4      1   3101295  39.6875   NaN        S  \n",
            "..      ...   ...    ...    ...       ...      ...   ...      ...  \n",
            "707  female  24.0      0      3      2666  19.2583   NaN        C  \n",
            "708    male   NaN      0      0  PC 17605  27.7208   NaN        C  \n",
            "709    male  45.0      0      0    347061   6.9750   NaN        S  \n",
            "710    male  35.0      0      0    239865  26.0000   NaN        S  \n",
            "711    male   NaN      0      0    110465  52.0000   A14        S  \n",
            "\n",
            "[712 rows x 12 columns]\n"
          ]
        }
      ],
      "source": [
        "import pandas as pd\n",
        "import numpy as np\n",
        "df=pd.read_csv('/content/train.csv')\n",
        "print(df)"
      ]
    },
    {
      "cell_type": "code",
      "source": [],
      "metadata": {
        "id": "LA0uDSB1obxC"
      },
      "execution_count": null,
      "outputs": []
    },
    {
      "cell_type": "code",
      "source": [
        "cols=['Name','Ticket','Cabin']\n",
        "df=df.drop(cols,axis=1)\n",
        "df.info()"
      ],
      "metadata": {
        "colab": {
          "base_uri": "https://localhost:8080/"
        },
        "id": "lVIGncRxoHYa",
        "outputId": "e904c585-f907-4a43-9c1b-0f8eb65eb0e5"
      },
      "execution_count": null,
      "outputs": [
        {
          "output_type": "stream",
          "name": "stdout",
          "text": [
            "<class 'pandas.core.frame.DataFrame'>\n",
            "Int64Index: 148 entries, 0 to 695\n",
            "Data columns (total 9 columns):\n",
            " #   Column       Non-Null Count  Dtype  \n",
            "---  ------       --------------  -----  \n",
            " 0   PassengerId  148 non-null    int64  \n",
            " 1   Survived     148 non-null    int64  \n",
            " 2   Pclass       148 non-null    int64  \n",
            " 3   Sex          148 non-null    object \n",
            " 4   Age          148 non-null    float64\n",
            " 5   SibSp        148 non-null    int64  \n",
            " 6   Parch        148 non-null    int64  \n",
            " 7   Fare         148 non-null    float64\n",
            " 8   Embarked     148 non-null    object \n",
            "dtypes: float64(2), int64(5), object(2)\n",
            "memory usage: 11.6+ KB\n"
          ]
        }
      ]
    },
    {
      "cell_type": "code",
      "source": [
        "df=df.dropna()\n",
        "df.info()"
      ],
      "metadata": {
        "colab": {
          "base_uri": "https://localhost:8080/"
        },
        "id": "--gNXh5gopkL",
        "outputId": "05981479-b70e-441e-b678-b8dcd23c0882"
      },
      "execution_count": null,
      "outputs": [
        {
          "output_type": "stream",
          "name": "stdout",
          "text": [
            "<class 'pandas.core.frame.DataFrame'>\n",
            "Int64Index: 148 entries, 0 to 695\n",
            "Data columns (total 12 columns):\n",
            " #   Column       Non-Null Count  Dtype  \n",
            "---  ------       --------------  -----  \n",
            " 0   PassengerId  148 non-null    int64  \n",
            " 1   Survived     148 non-null    int64  \n",
            " 2   Pclass       148 non-null    int64  \n",
            " 3   Name         148 non-null    object \n",
            " 4   Sex          148 non-null    object \n",
            " 5   Age          148 non-null    float64\n",
            " 6   SibSp        148 non-null    int64  \n",
            " 7   Parch        148 non-null    int64  \n",
            " 8   Ticket       148 non-null    object \n",
            " 9   Fare         148 non-null    float64\n",
            " 10  Cabin        148 non-null    object \n",
            " 11  Embarked     148 non-null    object \n",
            "dtypes: float64(2), int64(5), object(5)\n",
            "memory usage: 15.0+ KB\n"
          ]
        }
      ]
    },
    {
      "cell_type": "code",
      "source": [
        "dummies=[]\n",
        "cols=['Pclass','Sex','Embarked']\n",
        "for col in cols:\n",
        "  dummies.append(pd.get_dummies(df[col]))\n",
        "  titanic_dummies=pd.concat(dummies,axis=1)\n",
        "  df=pd.concat((df,titanic_dummies),axis=1)"
      ],
      "metadata": {
        "id": "lwT36fPqpGT7"
      },
      "execution_count": null,
      "outputs": []
    },
    {
      "cell_type": "code",
      "source": [
        "df=df.drop(['Pclass','Sex','Embarked'],axis=1)"
      ],
      "metadata": {
        "id": "nfyqZ_mqq3_D"
      },
      "execution_count": null,
      "outputs": []
    },
    {
      "cell_type": "code",
      "source": [
        "df['Age']=df['Age'].interpolate()\n",
        "print(df)"
      ],
      "metadata": {
        "colab": {
          "base_uri": "https://localhost:8080/"
        },
        "id": "I8FgdMTprPSB",
        "outputId": "8a8a603f-9669-4e50-8da1-e0728a083c5d"
      },
      "execution_count": null,
      "outputs": [
        {
          "output_type": "stream",
          "name": "stdout",
          "text": [
            "     PassengerId  Survived  Pclass     Sex   Age  SibSp  Parch      Fare  \\\n",
            "0            493         0       1    male  55.0      0      0   30.5000   \n",
            "1             53         1       1  female  49.0      1      0   76.7292   \n",
            "9            752         1       3    male   6.0      0      1   12.4750   \n",
            "10           541         1       1  female  36.0      0      2   71.0000   \n",
            "14           873         0       1    male  33.0      0      0    5.0000   \n",
            "..           ...       ...     ...     ...   ...    ...    ...       ...   \n",
            "681          708         1       1    male  42.0      0      0   26.2875   \n",
            "685          682         1       1    male  27.0      0      0   76.7292   \n",
            "691          743         1       1  female  21.0      2      2  262.3750   \n",
            "693          435         0       1    male  50.0      1      0   55.9000   \n",
            "695          725         1       1    male  27.0      1      0   53.1000   \n",
            "\n",
            "    Embarked  \n",
            "0          S  \n",
            "1          C  \n",
            "9          S  \n",
            "10         S  \n",
            "14         S  \n",
            "..       ...  \n",
            "681        S  \n",
            "685        C  \n",
            "691        C  \n",
            "693        S  \n",
            "695        S  \n",
            "\n",
            "[148 rows x 9 columns]\n"
          ]
        }
      ]
    },
    {
      "cell_type": "code",
      "source": [
        "from sklearn.preprocessing import MinMaxScaler\n",
        "Data=[[-1,2],[-0.5,6],[0,10],[1,18]]\n",
        "scaler=MinMaxScaler()\n",
        "print"
      ],
      "metadata": {
        "id": "MrIsuG59sqRx"
      },
      "execution_count": null,
      "outputs": []
    },
    {
      "cell_type": "code",
      "source": [
        "from numpy import asarray\n",
        "from sklearn.preprocessing import StandardScaler\n",
        "data=asarray([[100,0.001],\n",
        "             [8,0.05],\n",
        "             [50,0.005],\n",
        "             [88,0.07],\n",
        "             [4,0.1]])\n",
        "print(data)\n",
        "\n",
        "scaler=StandardScaler()\n",
        "\n",
        "scaled=scaler.fit_tranform(data)\n",
        "print(scaled)"
      ],
      "metadata": {
        "colab": {
          "base_uri": "https://localhost:8080/",
          "height": 280
        },
        "id": "EFfoPlJmtHE4",
        "outputId": "d104e930-1e9f-4353-a1e5-d97f426e413a"
      },
      "execution_count": null,
      "outputs": [
        {
          "output_type": "stream",
          "name": "stdout",
          "text": [
            "[[1.0e+02 1.0e-03]\n",
            " [8.0e+00 5.0e-02]\n",
            " [5.0e+01 5.0e-03]\n",
            " [8.8e+01 7.0e-02]\n",
            " [4.0e+00 1.0e-01]]\n"
          ]
        },
        {
          "output_type": "error",
          "ename": "AttributeError",
          "evalue": "'StandardScaler' object has no attribute 'fit_tranform'",
          "traceback": [
            "\u001b[0;31m---------------------------------------------------------------------------\u001b[0m",
            "\u001b[0;31mAttributeError\u001b[0m                            Traceback (most recent call last)",
            "\u001b[0;32m<ipython-input-19-c368a5bcb08f>\u001b[0m in \u001b[0;36m<cell line: 12>\u001b[0;34m()\u001b[0m\n\u001b[1;32m     10\u001b[0m \u001b[0mscaler\u001b[0m\u001b[0;34m=\u001b[0m\u001b[0mStandardScaler\u001b[0m\u001b[0;34m(\u001b[0m\u001b[0;34m)\u001b[0m\u001b[0;34m\u001b[0m\u001b[0;34m\u001b[0m\u001b[0m\n\u001b[1;32m     11\u001b[0m \u001b[0;34m\u001b[0m\u001b[0m\n\u001b[0;32m---> 12\u001b[0;31m \u001b[0mscaled\u001b[0m\u001b[0;34m=\u001b[0m\u001b[0mscaler\u001b[0m\u001b[0;34m.\u001b[0m\u001b[0mfit_tranform\u001b[0m\u001b[0;34m(\u001b[0m\u001b[0mdata\u001b[0m\u001b[0;34m)\u001b[0m\u001b[0;34m\u001b[0m\u001b[0;34m\u001b[0m\u001b[0m\n\u001b[0m\u001b[1;32m     13\u001b[0m \u001b[0mprint\u001b[0m\u001b[0;34m(\u001b[0m\u001b[0mscaled\u001b[0m\u001b[0;34m)\u001b[0m\u001b[0;34m\u001b[0m\u001b[0;34m\u001b[0m\u001b[0m\n",
            "\u001b[0;31mAttributeError\u001b[0m: 'StandardScaler' object has no attribute 'fit_tranform'"
          ]
        }
      ]
    }
  ]
}