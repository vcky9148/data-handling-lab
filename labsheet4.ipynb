{
  "nbformat": 4,
  "nbformat_minor": 0,
  "metadata": {
    "colab": {
      "provenance": []
    },
    "kernelspec": {
      "name": "python3",
      "display_name": "Python 3"
    },
    "language_info": {
      "name": "python"
    }
  },
  "cells": [
    {
      "cell_type": "code",
      "execution_count": 1,
      "metadata": {
        "id": "e4Yn3S1ctNs_"
      },
      "outputs": [],
      "source": [
        "import numpy as np\n",
        "import pandas as pd"
      ]
    },
    {
      "cell_type": "code",
      "source": [
        " # Example dataset\n",
        " data = {\n",
        "    'Feature1': [10, 20, 30, 40, 50],\n",
        "    'Feature2': [5, 15, 25, 35, 45]\n",
        " }"
      ],
      "metadata": {
        "id": "Z6_PRZS6tS2C"
      },
      "execution_count": 4,
      "outputs": []
    },
    {
      "cell_type": "code",
      "source": [
        " df = pd.DataFrame(data)"
      ],
      "metadata": {
        "id": "yI53L0IntXxv"
      },
      "execution_count": 5,
      "outputs": []
    },
    {
      "cell_type": "code",
      "source": [
        " print(\"Original Data:\")\n",
        " print(df)"
      ],
      "metadata": {
        "colab": {
          "base_uri": "https://localhost:8080/"
        },
        "id": "LOivXy5rtdty",
        "outputId": "55b3fb74-ef15-47d1-b56f-76a9db2c5062"
      },
      "execution_count": 6,
      "outputs": [
        {
          "output_type": "stream",
          "name": "stdout",
          "text": [
            "Original Data:\n",
            "   Feature1  Feature2\n",
            "0        10         5\n",
            "1        20        15\n",
            "2        30        25\n",
            "3        40        35\n",
            "4        50        45\n"
          ]
        }
      ]
    },
    {
      "cell_type": "code",
      "source": [
        " def zscore_normalization(df):\n",
        "    normalized_df = df.copy()\n",
        "    for column in normalized_df.columns:\n",
        "        mean = normalized_df[column].mean()\n",
        "        std = normalized_df[column].std()\n",
        "        normalized_df[column] = (normalized_df[column] - mean) / std\n",
        "    return normalized_df"
      ],
      "metadata": {
        "id": "ayzIwVHXtlo4"
      },
      "execution_count": 7,
      "outputs": []
    },
    {
      "cell_type": "code",
      "source": [
        " normalized_df = zscore_normalization(df)"
      ],
      "metadata": {
        "id": "NJAR0g3otq2I"
      },
      "execution_count": 8,
      "outputs": []
    },
    {
      "cell_type": "code",
      "source": [
        " print(\"\\nNormalized Data (Z-score):\")\n",
        " print(normalized_df)"
      ],
      "metadata": {
        "colab": {
          "base_uri": "https://localhost:8080/"
        },
        "id": "bX_Sis1HtvhB",
        "outputId": "fb8e3e50-242e-42af-c479-3de6b6e89595"
      },
      "execution_count": 9,
      "outputs": [
        {
          "output_type": "stream",
          "name": "stdout",
          "text": [
            "\n",
            "Normalized Data (Z-score):\n",
            "   Feature1  Feature2\n",
            "0 -1.264911 -1.264911\n",
            "1 -0.632456 -0.632456\n",
            "2  0.000000  0.000000\n",
            "3  0.632456  0.632456\n",
            "4  1.264911  1.264911\n"
          ]
        }
      ]
    },
    {
      "cell_type": "code",
      "source": [],
      "metadata": {
        "id": "aAOc9W83t0gm"
      },
      "execution_count": null,
      "outputs": []
    }
  ]
}